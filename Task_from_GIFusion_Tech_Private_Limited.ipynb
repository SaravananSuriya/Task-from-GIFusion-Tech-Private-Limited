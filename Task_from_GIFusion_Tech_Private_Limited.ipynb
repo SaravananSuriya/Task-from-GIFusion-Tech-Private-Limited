{
  "nbformat": 4,
  "nbformat_minor": 0,
  "metadata": {
    "colab": {
      "provenance": []
    },
    "kernelspec": {
      "name": "python3",
      "display_name": "Python 3"
    },
    "language_info": {
      "name": "python"
    }
  },
  "cells": [
    {
      "cell_type": "markdown",
      "source": [
        "**Next Permutation from LeetCode**"
      ],
      "metadata": {
        "id": "wGoYjjemEi2t"
      }
    },
    {
      "cell_type": "code",
      "source": [
        "class Solution:\n",
        "    def nextPermutation(self, nums: List[int]) -> None:\n",
        "        length = len(nums)\n",
        "\n",
        "        # If the length of the list is 2 or less simply reverse the list\n",
        "        # because the next permutation is either the reverse itself or no change is needed.\n",
        "        if length <= 2:\n",
        "            return nums.reverse()\n",
        "\n",
        "        # Step 1: Find the rightmost index 'pointer' where nums[pointer] < nums[pointer + 1]\n",
        "        # This index marks the beginning of the decreasing sequence from the end.\n",
        "        pointer = length - 2\n",
        "        while pointer >= 0 and nums[pointer] >= nums[pointer + 1]:\n",
        "            pointer -= 1\n",
        "\n",
        "        # If pointer is -1, it means the entire list is non-increasing, if we are at the last permutation.\n",
        "        # Hence, the next permutation will be the smallest one, which is the reverse of the entire list.\n",
        "        if pointer == -1:\n",
        "            return nums.reverse()\n",
        "\n",
        "        # Step 2: Find the smallest index 'i' greater than 'pointer' such that nums[i] > nums[pointer]\n",
        "        # This will give the smallest element larger than nums[pointer] to the right of 'pointer'.\n",
        "        for i in range(length - 1, pointer, -1):\n",
        "            if nums[pointer] < nums[i]:\n",
        "                # Swap the elements at `pointer` and `i`\n",
        "                nums[pointer], nums[i] = nums[i], nums[pointer]\n",
        "                break\n",
        "\n",
        "        # Step 3: Reverse the sequence to the right of 'pointer'\n",
        "        # This will give the smallest lexicographical order for the suffix following the original 'pointer'.\n",
        "        nums[pointer + 1:] = reversed(nums[pointer + 1:])\n"
      ],
      "metadata": {
        "id": "nY-SvslRDfIm"
      },
      "execution_count": null,
      "outputs": []
    },
    {
      "cell_type": "markdown",
      "source": [
        "**Array by increasing frequency from LeetCode**"
      ],
      "metadata": {
        "id": "78g-7wDWE2P7"
      }
    },
    {
      "cell_type": "code",
      "source": [
        "class Solution:\n",
        "    def frequencySort(self, nums: List[int]) -> List[int]:\n",
        "        # Step 1: Count the frequency of each element in the list using Counter\n",
        "        count = Counter(nums)\n",
        "\n",
        "        # Step 2: Sort the list 'nums' based on the following criteria:\n",
        "        #   Primary criterion: frequency of each element (ascending order)\n",
        "        #   Secondary criterion: value of each element (descending order)\n",
        "        #   Using a lambda function as the key for sorting:\n",
        "        #   'count[x]' provides the frequency of 'x' (sorts by frequency in ascending order)\n",
        "        #   '-x' provides the negation of the value (sorts by value in descending order)\n",
        "        nums.sort(key = lambda x: (count[x], -x))\n",
        "\n",
        "        # Step 3: Return the sorted list\n",
        "        return nums\n"
      ],
      "metadata": {
        "id": "xprn4NrnEUm1"
      },
      "execution_count": null,
      "outputs": []
    }
  ]
}